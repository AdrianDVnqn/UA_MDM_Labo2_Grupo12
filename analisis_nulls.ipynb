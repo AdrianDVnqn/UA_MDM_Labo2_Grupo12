{
 "cells": [
  {
   "cell_type": "code",
   "execution_count": 7,
   "metadata": {},
   "outputs": [],
   "source": [
    "# Importación de Librerías\n",
    "import numpy as np \n",
    "import pandas as pd \n",
    "import matplotlib.pyplot as plt\n",
    "import seaborn as sns \n",
    "from wordcloud import WordCloud\n",
    "\n",
    "%matplotlib inline\n",
    "pd.set_option('display.max_columns', 30)\n",
    "plt.rcParams['figure.figsize'] = [12.0, 8.0]"
   ]
  },
  {
   "cell_type": "code",
   "execution_count": null,
   "metadata": {},
   "outputs": [],
   "source": [
    "train= pd.read_csv(\"../petfinder-adoption-prediction/train/train.csv\")\n",
    "\n",
    "C:\\Users\\Gloria\\Documents\\AUSTRAL\\LAB2\\UA_MDM_Labo2_Grupo12\\analisis_nulls.ipynb"
   ]
  }
 ],
 "metadata": {
  "kernelspec": {
   "display_name": "ldi2",
   "language": "python",
   "name": "python3"
  },
  "language_info": {
   "codemirror_mode": {
    "name": "ipython",
    "version": 3
   },
   "file_extension": ".py",
   "mimetype": "text/x-python",
   "name": "python",
   "nbconvert_exporter": "python",
   "pygments_lexer": "ipython3",
   "version": "3.12.9"
  }
 },
 "nbformat": 4,
 "nbformat_minor": 2
}
